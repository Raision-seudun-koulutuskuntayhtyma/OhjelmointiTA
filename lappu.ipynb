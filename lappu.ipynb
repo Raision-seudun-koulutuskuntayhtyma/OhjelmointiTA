{
 "metadata": {
  "language_info": {
   "codemirror_mode": {
    "name": "ipython",
    "version": 3
   },
   "file_extension": ".py",
   "mimetype": "text/x-python",
   "name": "python",
   "nbconvert_exporter": "python",
   "pygments_lexer": "ipython3",
   "version": "3.8.7-final"
  },
  "orig_nbformat": 2,
  "kernelspec": {
   "name": "python3",
   "display_name": "Python 3.8.7 64-bit",
   "metadata": {
    "interpreter": {
     "hash": "1baa965d5efe3ac65b79dfc60c0d706280b1da80fedb7760faf2759126c4f253"
    }
   }
  }
 },
 "nbformat": 4,
 "nbformat_minor": 2,
 "cells": [
  {
   "source": [
    "# Iso otskikko\n",
    "Ja sen alla olevaa tavallista tekstiä"
   ],
   "cell_type": "markdown",
   "metadata": {}
  },
  {
   "cell_type": "code",
   "execution_count": 2,
   "metadata": {},
   "outputs": [
    {
     "output_type": "stream",
     "name": "stdout",
     "text": [
      "Mikan painoindeksi on 24.96494647925858\n"
     ]
    }
   ],
   "source": [
    "pituus = 1.71\n",
    "paino = 73\n",
    "\n",
    "def painoindeksi(paino, pituus):\n",
    "    bmi = paino / pituus**2\n",
    "    return bmi\n",
    "\n",
    "mikan_bmi = painoindeksi(paino, pituus)\n",
    "print('Mikan painoindeksi on', mikan_bmi)"
   ]
  },
  {
   "cell_type": "code",
   "execution_count": null,
   "metadata": {},
   "outputs": [],
   "source": [
    "def bmi(paino, pituus):\n",
    "    return paino / pituus**2\n",
    "\n",
    "oma_bmi = bmi(74, 1.71)\n",
    "    \n",
    "print('Hoh-hoijaa taas on lihottu, painoindeksi on', oma_bmi)"
   ]
  }
 ]
}